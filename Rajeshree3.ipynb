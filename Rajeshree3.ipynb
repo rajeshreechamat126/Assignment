{
 "cells": [
  {
   "cell_type": "markdown",
   "id": "b58ceaf5",
   "metadata": {},
   "source": [
    "                                        Assignement No :-  03"
   ]
  },
  {
   "cell_type": "code",
   "execution_count": null,
   "id": "9c87e3df",
   "metadata": {},
   "outputs": [],
   "source": []
  },
  {
   "cell_type": "markdown",
   "id": "b9ea9cb6",
   "metadata": {},
   "source": [
    "Que1.  Why are functions advantageous to have in your programs?\n",
    "\n",
    "Ans:   Below are the advantages of functions in programming\n",
    "\n",
    "\n",
    "       1. Functions reduce the need for duplicate code. This makes programs shorter, easier to read, and easier to update.               The main advantage of functions is code Reusability .\n",
    "       \n",
    "       2. Increases program readability & modularity of the program.\n",
    "\n",
    "       3. Divide a complex problem into simpler ones. \n",
    "       \n",
    "       4. Reduces chances of error.\n",
    "       \n",
    "       5. Modifying a program becomes easier by using function\n"
   ]
  },
  {
   "cell_type": "code",
   "execution_count": null,
   "id": "0713fbfc",
   "metadata": {},
   "outputs": [],
   "source": []
  },
  {
   "cell_type": "markdown",
   "id": "250c4913",
   "metadata": {},
   "source": [
    "Que2.  When does the code in a function run: when it&#39;s specified or when it&#39;s called?\n",
    "\n",
    "Ans:   The code in a function executes when the function is called, not when the function is specified. When a function is            \"called\" the program \"leaves\" the current section of code and begins to execute the first line inside the function.\n"
   ]
  },
  {
   "cell_type": "code",
   "execution_count": 3,
   "id": "188e24a0",
   "metadata": {},
   "outputs": [
    {
     "name": "stdout",
     "output_type": "stream",
     "text": [
      "Rajeshree Pingale\n"
     ]
    }
   ],
   "source": [
    "def my_function(name):\n",
    "    print(name +\" Pingale\")\n",
    "    \n",
    "my_function(\"Rajeshree\")    "
   ]
  },
  {
   "cell_type": "code",
   "execution_count": null,
   "id": "dfc025a9",
   "metadata": {},
   "outputs": [],
   "source": []
  },
  {
   "cell_type": "markdown",
   "id": "28c7678e",
   "metadata": {},
   "source": [
    "Que3.  What statement creates a function?\n",
    "\n",
    "Ans:   The def statement defines a function\n",
    "\n",
    "       Syntax of Function:\n",
    "\n",
    "       ` def function_name(parameters):\n",
    "          \"\"\"doc string\"\"\"\n",
    "\n",
    "          -----function body-----\n",
    "          -----function body-----\n",
    "          return value\n"
   ]
  },
  {
   "cell_type": "code",
   "execution_count": 5,
   "id": "0bb5aab9",
   "metadata": {},
   "outputs": [
    {
     "name": "stdout",
     "output_type": "stream",
     "text": [
      "Rajeshree\n"
     ]
    }
   ],
   "source": [
    "def my_function(name):\n",
    "    print(name)\n",
    "my_function(\"Rajeshree\")    "
   ]
  },
  {
   "cell_type": "code",
   "execution_count": null,
   "id": "68181d07",
   "metadata": {},
   "outputs": [],
   "source": []
  },
  {
   "cell_type": "markdown",
   "id": "5ceb81c6",
   "metadata": {},
   "source": [
    "Que4.  What is the difference between a function and a function call?\n",
    "\n",
    "Ans:   A function is a block of code that does a particular operation and returns a result. It usually accepts inputs as              parameters and returns a result. The parameters are not mandatory. A function call is the code used to pass control to a        function.\n"
   ]
  },
  {
   "cell_type": "code",
   "execution_count": 7,
   "id": "c2b05563",
   "metadata": {},
   "outputs": [
    {
     "name": "stdout",
     "output_type": "stream",
     "text": [
      "Rajeshree\n"
     ]
    }
   ],
   "source": [
    "def my_function(name):  ##Difine Function\n",
    "    print(name)\n",
    "    \n",
    "my_function(\"Rajeshree\") ##Call Function    "
   ]
  },
  {
   "cell_type": "code",
   "execution_count": null,
   "id": "048709fd",
   "metadata": {},
   "outputs": [],
   "source": []
  },
  {
   "cell_type": "markdown",
   "id": "ea762814",
   "metadata": {},
   "source": [
    "Que5.  How many global scopes are there in a Python program? How many local scopes?\n",
    "\n",
    "Ans:   There is only one global scope in Python program.\n",
    "       The scope of the global variable is present within the entire program\n",
    "       The Local scope is temporarily created when the function is executed.\n",
    "       The scope of the local variable is limited to the function.\n",
    "\n"
   ]
  },
  {
   "cell_type": "code",
   "execution_count": 17,
   "id": "5cca8e56",
   "metadata": {},
   "outputs": [
    {
     "name": "stdout",
     "output_type": "stream",
     "text": [
      "10\n"
     ]
    }
   ],
   "source": [
    "# Example Of Global Scope\n",
    "a=10\n",
    "\n",
    "def my_func():\n",
    "    print(a)\n",
    "    \n",
    "my_func()    "
   ]
  },
  {
   "cell_type": "code",
   "execution_count": 16,
   "id": "91fa32fd",
   "metadata": {},
   "outputs": [
    {
     "name": "stdout",
     "output_type": "stream",
     "text": [
      "10\n"
     ]
    }
   ],
   "source": [
    "#Example Of Local scope\n",
    "def my_func():\n",
    "    a=10\n",
    "    def my_inner_func():\n",
    "        print(a)\n",
    "    my_inner_func()\n",
    "    \n",
    "my_func()   "
   ]
  },
  {
   "cell_type": "code",
   "execution_count": null,
   "id": "bd6a5b90",
   "metadata": {},
   "outputs": [],
   "source": []
  },
  {
   "cell_type": "markdown",
   "id": "64fe0849",
   "metadata": {},
   "source": [
    "Que6.  What happens to variables in a local scope when the function call returns?\n",
    "\n",
    "Ans:   When a function is called, the local variable is temporarily created. As soon as the function returns, the local scope          is destroyed and the variable no longer exists. We cannot access the that variable outside the function.\n",
    "\n"
   ]
  },
  {
   "cell_type": "code",
   "execution_count": null,
   "id": "59e469f0",
   "metadata": {},
   "outputs": [],
   "source": []
  },
  {
   "cell_type": "markdown",
   "id": "9e99ac66",
   "metadata": {},
   "source": [
    "Que7.  What is the concept of a return value? Is it possible to have a return value in an expression?\n",
    "\n",
    "Ans:   The return is a value: that the function returns results after executing the block of statements (when the function             completes the entire execution).\n",
    "       The return value can be of any types depending largely upon the operation perfomed within the function.\n",
    "       It can be int, float, string, list and many more\n",
    "\n",
    "\n"
   ]
  },
  {
   "cell_type": "code",
   "execution_count": null,
   "id": "0f457d85",
   "metadata": {},
   "outputs": [],
   "source": []
  },
  {
   "cell_type": "markdown",
   "id": "8186e530",
   "metadata": {},
   "source": [
    "Que8.  If a function does not have a return statement, what is the return value of a call to that function?\n",
    "\n",
    "Ans:    If there is no return statement for a function, its return value is None. The function always returns None if explicit         return is not written.\n"
   ]
  },
  {
   "cell_type": "code",
   "execution_count": null,
   "id": "37c693b6",
   "metadata": {},
   "outputs": [],
   "source": []
  },
  {
   "cell_type": "markdown",
   "id": "b7dc3445",
   "metadata": {},
   "source": [
    "Que9.  How do you make a function variable refer to the global variable?\n",
    "\n",
    "Ans:   Variables that are created or defined outside the function is called as the Global Variables\n",
    "       Global Variables can be used anywhere within the program i.e. both inside or outside the function\n"
   ]
  },
  {
   "cell_type": "code",
   "execution_count": 1,
   "id": "5cdba63b",
   "metadata": {},
   "outputs": [
    {
     "name": "stdout",
     "output_type": "stream",
     "text": [
      "10\n"
     ]
    }
   ],
   "source": [
    "# Globally Defining the Function\n",
    "x = 10\n",
    "# Defining the Function\n",
    "def func():\n",
    "    print(x)\n",
    "  # Calling the function\n",
    "func()"
   ]
  },
  {
   "cell_type": "code",
   "execution_count": 2,
   "id": "0521dcb6",
   "metadata": {},
   "outputs": [
    {
     "name": "stdout",
     "output_type": "stream",
     "text": [
      "ineuron\n"
     ]
    }
   ],
   "source": [
    "# Defining the Global Variable inside the Function and calling it outside\n",
    "def func1():\n",
    "    global abc\n",
    "    abc = 'ineuron'\n",
    "func1()    \n",
    "print(abc)"
   ]
  },
  {
   "cell_type": "code",
   "execution_count": null,
   "id": "af45c482",
   "metadata": {},
   "outputs": [],
   "source": []
  },
  {
   "cell_type": "code",
   "execution_count": null,
   "id": "40678013",
   "metadata": {},
   "outputs": [],
   "source": [
    "Que10.  What is the data type of None? \n",
    "\n",
    "Ans:    The data type of None is NoneType"
   ]
  },
  {
   "cell_type": "code",
   "execution_count": null,
   "id": "e21a99bf",
   "metadata": {},
   "outputs": [],
   "source": []
  },
  {
   "cell_type": "markdown",
   "id": "a903fca3",
   "metadata": {},
   "source": [
    "Que11.  What does the sentence import areallyourpetsnamederic do?\n",
    "\n",
    "Ans:    Import statement imports a module named areallyourpetsnamederic. (But a module of this name doesnt exists in Python)\n"
   ]
  },
  {
   "cell_type": "code",
   "execution_count": null,
   "id": "fc06685b",
   "metadata": {},
   "outputs": [],
   "source": []
  },
  {
   "cell_type": "markdown",
   "id": "01d99072",
   "metadata": {},
   "source": [
    "Que12.  If you had a bacon() feature in a spam module, what would you call it after importing spam?\n",
    "\n",
    "Ans:     Importing the Module\n",
    "             import spam\n",
    "         Calling the Feature/Function\n",
    "              spam.bacon()\n"
   ]
  },
  {
   "cell_type": "code",
   "execution_count": null,
   "id": "86ea9834",
   "metadata": {},
   "outputs": [],
   "source": []
  },
  {
   "cell_type": "markdown",
   "id": "13db4446",
   "metadata": {},
   "source": [
    "Que13.  What can you do to save a programme from crashing if it encounters an error?\n",
    "\n",
    "Ans:   Use the concept of Exception Handling i.e. try-except Blockb\n",
    "       We can place the line of code that might cause an error in a try clause and use except block to handle the error as            mentioned below\n"
   ]
  },
  {
   "cell_type": "code",
   "execution_count": 4,
   "id": "d0e7754d",
   "metadata": {},
   "outputs": [
    {
     "name": "stdout",
     "output_type": "stream",
     "text": [
      "10\n"
     ]
    }
   ],
   "source": [
    "\n",
    "a= 10\n",
    "try:\n",
    "    print(a)\n",
    "except:\n",
    "    print(\"An exception Occurred\")"
   ]
  },
  {
   "cell_type": "code",
   "execution_count": null,
   "id": "d144673a",
   "metadata": {},
   "outputs": [],
   "source": []
  },
  {
   "cell_type": "code",
   "execution_count": null,
   "id": "b4dd6cce",
   "metadata": {},
   "outputs": [],
   "source": [
    "Que14.  What is the purpose of the try clause? What is the purpose of the except clause?\n",
    "\n",
    "Ans:    try clause  is used when you think that program can crash so you try to run the program and it crashes it wont\n",
    "         disturb other part of progam.\n",
    "        except clause is used when you are trying a certain part of program but it fails so it used as a response to \n",
    "         exception\n"
   ]
  },
  {
   "cell_type": "code",
   "execution_count": 22,
   "id": "271a6b89",
   "metadata": {},
   "outputs": [
    {
     "name": "stdout",
     "output_type": "stream",
     "text": [
      "10\n"
     ]
    }
   ],
   "source": [
    "a=10\n",
    "try:\n",
    "    print(a)\n",
    "except NameError:\n",
    "    print(\"Variable a is not defind\")\n",
    "except:\n",
    "    print(\"Something else went worng\")"
   ]
  },
  {
   "cell_type": "code",
   "execution_count": null,
   "id": "37ee8667",
   "metadata": {},
   "outputs": [],
   "source": []
  }
 ],
 "metadata": {
  "kernelspec": {
   "display_name": "Python 3 (ipykernel)",
   "language": "python",
   "name": "python3"
  },
  "language_info": {
   "codemirror_mode": {
    "name": "ipython",
    "version": 3
   },
   "file_extension": ".py",
   "mimetype": "text/x-python",
   "name": "python",
   "nbconvert_exporter": "python",
   "pygments_lexer": "ipython3",
   "version": "3.9.12"
  }
 },
 "nbformat": 4,
 "nbformat_minor": 5
}

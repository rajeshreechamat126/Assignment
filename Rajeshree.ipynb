{
 "cells": [
  {
   "cell_type": "markdown",
   "id": "62ca5fbe",
   "metadata": {},
   "source": [
    "                                 Assignment no : 01  (Python Basic)"
   ]
  },
  {
   "cell_type": "markdown",
   "id": "ee77338d",
   "metadata": {},
   "source": []
  },
  {
   "cell_type": "markdown",
   "id": "f4a0fdb3",
   "metadata": {},
   "source": [
    "Que1. In the below elements which of them are values or an expression? eg:- values can be\n",
    "      integer or string and expressions will be mathematical operators.\n",
    "      *,\n",
    "      'Hello'\n",
    "      -87.8,\n",
    "      -,\n",
    "      /,\n",
    "      +,\n",
    "      6\n",
    "Ans:  There are 3 values & 4 mathematical operator present. Values :- 'hello', -87.8 , 6 mathematical Operator:- *,-,/,+"
   ]
  },
  {
   "cell_type": "code",
   "execution_count": null,
   "id": "2044308b",
   "metadata": {},
   "outputs": [],
   "source": []
  },
  {
   "cell_type": "markdown",
   "id": "096336b3",
   "metadata": {},
   "source": [
    "Que 2. What is the difference between string and variable?\n",
    " \n",
    "Ans:  String is a datatype which can be stored data in variable.\n",
    "      string is enclosed with single quotes & double quotes\n",
    "      Variable which can be used for store information or different type of data like,int, str,float,boolen,complex & many           more.\n",
    "      example:- s1=\"Rajeshree\" or s2='Rajeshree' so here is s1 ors2 is a variable & 'Rajeshree' is a string datatype"
   ]
  },
  {
   "cell_type": "code",
   "execution_count": null,
   "id": "24b7b2d1",
   "metadata": {},
   "outputs": [],
   "source": []
  },
  {
   "cell_type": "markdown",
   "id": "4b78dfc5",
   "metadata": {},
   "source": [
    "Que 3. Describe three different data types.\n",
    "\n",
    "Ans:  There are differnet datatype in python like, int, str, float, tuple, list, dict, complex, set, boolean or many more\n",
    "      1) int:- int can be used for storing whole/ integer vlue (whithout decimal points)\n",
    "         for example:- 4,6,7,8,9,10\n",
    "      2) bool:- In Boolean, We can use to represent a logical values. \n",
    "         for example:- True & False       \n",
    "      3) float:- In float, we can represent the decimal or floating number\n",
    "         for example:- 10.5, 85.9, -87.5"
   ]
  },
  {
   "cell_type": "code",
   "execution_count": null,
   "id": "b6956e13",
   "metadata": {},
   "outputs": [],
   "source": []
  },
  {
   "cell_type": "markdown",
   "id": "030ad2fd",
   "metadata": {},
   "source": [
    "Que 4. What is an expression made up of? What do all expressions do?\n",
    "\n",
    "Ans:  Expressions is cobination of oprators, values, variables & function.\n",
    "      Expressions need to be evaluated data. so if you give command to python print, so interpreter         evaluated the expression &       then after display the result expression. \n",
    "      for example:- print(\"this is my class\") so here print is a keywords, (\"this is my class\") is         expression\n",
    "        "
   ]
  },
  {
   "cell_type": "code",
   "execution_count": null,
   "id": "a5f289f0",
   "metadata": {},
   "outputs": [],
   "source": []
  },
  {
   "cell_type": "markdown",
   "id": "23aefaa7",
   "metadata": {},
   "source": [
    "Que5. This assignment statements, like spam = 10. What is the difference between an\n",
    "      expression and a statement? \n",
    "      \n",
    "Ans:  Statement is something express Element/Varible/Objects. \n",
    "      Print and Assignment statement can be called as a statement that represent an action or command.\n",
    "      spam=10 is an example of statement so, 10 is assigned with varible spam       \n",
    "      Expression is cobination of oprators, values, variables & function. Expression need to be evaluated data.so if                 you give command to python print, so interpreter evaluated the expression & then after display the result expression        \n",
    "\n",
    "\n",
    "\n",
    "\n",
    "      \n",
    "      "
   ]
  },
  {
   "cell_type": "code",
   "execution_count": null,
   "id": "acde219b",
   "metadata": {},
   "outputs": [],
   "source": []
  },
  {
   "cell_type": "markdown",
   "id": "3d2d8558",
   "metadata": {},
   "source": [
    "Que6. After running the following code, what does the variable bacon contain?\n",
    "      bacon = 22\n",
    "      bacon + 1\n",
    "\n",
    "       "
   ]
  },
  {
   "cell_type": "code",
   "execution_count": 3,
   "id": "af60948a",
   "metadata": {},
   "outputs": [
    {
     "name": "stdout",
     "output_type": "stream",
     "text": [
      "22\n"
     ]
    }
   ],
   "source": [
    "#condtion 1:-\n",
    "bacon=22\n",
    "bacon+1\n",
    "print(bacon)"
   ]
  },
  {
   "cell_type": "code",
   "execution_count": 5,
   "id": "4c7089bf",
   "metadata": {},
   "outputs": [
    {
     "name": "stdout",
     "output_type": "stream",
     "text": [
      "23\n"
     ]
    }
   ],
   "source": [
    "#condtion 2:-\n",
    "bacon=22\n",
    "bacon+1\n",
    "print(bacon+1)"
   ]
  },
  {
   "cell_type": "markdown",
   "id": "e9bef6cc",
   "metadata": {},
   "source": [
    "Que7. What should the values of the following two terms be?\n",
    "      'spam'+spamspam'\n",
    "      'spam'*3\n",
    "      \n",
    "Ans:  Both the data in form of string. so here in first expression follow \"string concatenation\" & second expression follow string mutlipication      \n",
    "      "
   ]
  },
  {
   "cell_type": "code",
   "execution_count": 7,
   "id": "80eddf64",
   "metadata": {},
   "outputs": [
    {
     "name": "stdout",
     "output_type": "stream",
     "text": [
      "spamspamspam\n"
     ]
    }
   ],
   "source": [
    "#condtion 1:- string concatenation \n",
    "s1='spam'+'spamspam'\n",
    "print(s1)"
   ]
  },
  {
   "cell_type": "code",
   "execution_count": 8,
   "id": "53657f52",
   "metadata": {},
   "outputs": [
    {
     "name": "stdout",
     "output_type": "stream",
     "text": [
      "spamspamspam\n"
     ]
    }
   ],
   "source": [
    "#condtion 2:- string concatenation\n",
    "s2='spam'*3\n",
    "print(s2)"
   ]
  },
  {
   "cell_type": "markdown",
   "id": "de8f1b15",
   "metadata": {},
   "source": [
    "Que8. Why is eggs a valid variable name while 100 is invalid?\n",
    "\n",
    "Ans:- Python is a case sentitive langaugae, so variable name can not be begain with number (if assign \"cannot assign to               literal\" erroe shown that's means 100 is literal). so variable is always start from alphabet element then after you can         add number of underscore.\n",
    "      example :- egg = 1,2,3 ( is valid variable) No error Shown 100 = 1,2,3 ( is not valid varibale) error shown \"cannot assig       to literal\"\n",
    "\n",
    "\n"
   ]
  },
  {
   "cell_type": "code",
   "execution_count": null,
   "id": "3250784d",
   "metadata": {},
   "outputs": [],
   "source": []
  },
  {
   "cell_type": "markdown",
   "id": "507e32a9",
   "metadata": {},
   "source": [
    "Que9. What three functions can be used to get the integer, floating-point number, or string version of a value?\n",
    "\n",
    "Ans:  int(), bfloat(), and str() funcation can be used to get intger, floating-point number, and string version of a value."
   ]
  },
  {
   "cell_type": "code",
   "execution_count": 15,
   "id": "8fa5f773",
   "metadata": {},
   "outputs": [
    {
     "name": "stdout",
     "output_type": "stream",
     "text": [
      "<class 'int'>\n",
      "<class 'float'>\n",
      "<class 'str'>\n"
     ]
    }
   ],
   "source": [
    "#for Example \n",
    "x=10.0\n",
    "y=15\n",
    "z=20\n",
    "#conert float into intger by using int()\n",
    "print(type(int(x)))\n",
    "#conert intger into float by using float()\n",
    "print(type(float(y)))\n",
    "#conert integr into string by using str()\n",
    "print(type(str(z)))"
   ]
  },
  {
   "cell_type": "code",
   "execution_count": null,
   "id": "c81c7962",
   "metadata": {},
   "outputs": [],
   "source": []
  },
  {
   "cell_type": "markdown",
   "id": "1392c440",
   "metadata": {},
   "source": [
    "Que10. Why does this expression cause an error? How can you fix it? 'I have eaten '+99+'burritos'.\n",
    "\n",
    "Ans:  This expression cause error due to concatenation here 99 is present in interger & remaining present in string so we need       to interger is converted into string. \n",
    "      so please check the following code"
   ]
  },
  {
   "cell_type": "code",
   "execution_count": 3,
   "id": "e82cb88f",
   "metadata": {},
   "outputs": [
    {
     "data": {
      "text/plain": [
       "'I have eaten99burritor.'"
      ]
     },
     "execution_count": 3,
     "metadata": {},
     "output_type": "execute_result"
    }
   ],
   "source": [
    "'I have eaten'+ str(99) + 'burritor.'"
   ]
  },
  {
   "cell_type": "code",
   "execution_count": 5,
   "id": "26e6f18c",
   "metadata": {},
   "outputs": [
    {
     "data": {
      "text/plain": [
       "str"
      ]
     },
     "execution_count": 5,
     "metadata": {},
     "output_type": "execute_result"
    }
   ],
   "source": [
    "type('I have eaten'+ str(99)+ 'burritor.')"
   ]
  },
  {
   "cell_type": "code",
   "execution_count": null,
   "id": "2ef6a8d8",
   "metadata": {},
   "outputs": [],
   "source": []
  }
 ],
 "metadata": {
  "kernelspec": {
   "display_name": "Python 3 (ipykernel)",
   "language": "python",
   "name": "python3"
  },
  "language_info": {
   "codemirror_mode": {
    "name": "ipython",
    "version": 3
   },
   "file_extension": ".py",
   "mimetype": "text/x-python",
   "name": "python",
   "nbconvert_exporter": "python",
   "pygments_lexer": "ipython3",
   "version": "3.9.12"
  }
 },
 "nbformat": 4,
 "nbformat_minor": 5
}

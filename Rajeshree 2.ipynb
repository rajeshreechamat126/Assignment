{
 "cells": [
  {
   "cell_type": "markdown",
   "id": "472e4993",
   "metadata": {},
   "source": [
    "                             Assignment No:- 02  (Python Basic)"
   ]
  },
  {
   "cell_type": "code",
   "execution_count": null,
   "id": "e04da75b",
   "metadata": {},
   "outputs": [],
   "source": []
  },
  {
   "cell_type": "markdown",
   "id": "63e8a4df",
   "metadata": {},
   "source": [
    "Que1. What are the two values of the Boolean data type? How do you write them?\n",
    "\n",
    "Ans:  Two values of the boolen data types are True and False. \n",
    "      Boolean is also one of the datatypes which are used to store information.\n",
    "      The Boolean DataType is generally used in conditional statements\n"
   ]
  },
  {
   "cell_type": "code",
   "execution_count": 3,
   "id": "338c7cc3",
   "metadata": {},
   "outputs": [
    {
     "name": "stdout",
     "output_type": "stream",
     "text": [
      "True <class 'bool'>\n",
      "False <class 'bool'>\n"
     ]
    }
   ],
   "source": [
    "a=True\n",
    "b=False\n",
    "print(a,type(a))\n",
    "print(b,type(b))"
   ]
  },
  {
   "cell_type": "code",
   "execution_count": null,
   "id": "d65139ae",
   "metadata": {},
   "outputs": [],
   "source": []
  },
  {
   "cell_type": "markdown",
   "id": "3bd85c55",
   "metadata": {},
   "source": [
    "Que2.  What are the three different types of Boolean operators?\n",
    "\n",
    "Ans: Basically there are 3 Boolean Operators:\n",
    "\n",
    "     1. Logical AND (and)\n",
    "     2. Logical OR (or)\n",
    "     3. Logical NOT (not)\n",
    "\n",
    "     "
   ]
  },
  {
   "cell_type": "code",
   "execution_count": 5,
   "id": "04d41b8c",
   "metadata": {},
   "outputs": [
    {
     "name": "stdout",
     "output_type": "stream",
     "text": [
      "True\n",
      "True\n",
      "False\n"
     ]
    }
   ],
   "source": [
    "x=150\n",
    "y=200\n",
    "print(x>100 and y>100) # Example of boolean and\n",
    "print(x>100 and y>100) # Example of boolean or\n",
    "print(not(x>11)) # Example of boolean not"
   ]
  },
  {
   "cell_type": "code",
   "execution_count": null,
   "id": "0a8a6f7d",
   "metadata": {},
   "outputs": [],
   "source": []
  },
  {
   "cell_type": "markdown",
   "id": "fd05e31d",
   "metadata": {},
   "source": [
    "Que3.  Make a list of each Boolean operator's truth tables (i.e. every possible combination of Boolean values for the operator        and what it evaluate ).\n",
    "\n",
    "Ans:   The Truth tables for the boolean tables are as follows:\n",
    "\n",
    "       Truth Table for `and` operator\n",
    "         True and True --> True\n",
    "\n",
    "         True and False --> False\n",
    "\n",
    "         False and True --> False\n",
    "\n",
    "         False and False --> False\n",
    "       \n",
    "       Truth Table for `or` operator \n",
    "         True or True --> True\n",
    "\n",
    "         True or False --> True\n",
    "\n",
    "         False or True --> True\n",
    "\n",
    "         False or False --> False\n",
    "\n",
    "\n",
    "       Truth Table for `not` operator \n",
    "\n",
    "         True not --> False\n",
    "         False not --> True\n",
    "\n"
   ]
  },
  {
   "cell_type": "code",
   "execution_count": null,
   "id": "12a404b8",
   "metadata": {},
   "outputs": [],
   "source": []
  },
  {
   "cell_type": "markdown",
   "id": "2487318a",
   "metadata": {},
   "source": [
    "Que4.  What are the values of the following expressions?\n",
    "       . (5>4) and (3 == 5)\n",
    "       . not (5>4)\n",
    "       . (5>4) or (3 == 5)\n",
    "       . not ((5>4) or (3 == 5))\n",
    "       . (True and True) and (True == False)\n",
    "       . (not False) or (not True)"
   ]
  },
  {
   "cell_type": "code",
   "execution_count": 12,
   "id": "8a2a11e0",
   "metadata": {},
   "outputs": [
    {
     "name": "stdout",
     "output_type": "stream",
     "text": [
      "False\n",
      "False\n",
      "True\n",
      "False\n",
      "False\n",
      "True\n"
     ]
    }
   ],
   "source": [
    "print((5>4) and (3==5))\n",
    "print(not (5>4))\n",
    "print((5>4) or (3==5))\n",
    "print(not((5>4) or (3==5)))\n",
    "print((True and True) and (True==False))\n",
    "print((not False) or (not True))"
   ]
  },
  {
   "cell_type": "code",
   "execution_count": null,
   "id": "4e188d99",
   "metadata": {},
   "outputs": [],
   "source": []
  },
  {
   "cell_type": "markdown",
   "id": "b16edfab",
   "metadata": {},
   "source": [
    "Que5.  What are the six comparison operators?\n",
    "\n",
    "Ans:       Comparisor operators are as follows:\n",
    "\n",
    "         1. <  greater than\n",
    "         2. >  less than\n",
    "         3. <= less than equal to\n",
    "         4. >= greater than equal to\n",
    "         5. == equal to\n",
    "         6. != not equal to\n",
    "\n",
    "\n"
   ]
  },
  {
   "cell_type": "code",
   "execution_count": null,
   "id": "6c76d2fb",
   "metadata": {},
   "outputs": [],
   "source": []
  },
  {
   "cell_type": "markdown",
   "id": "3dcc9c44",
   "metadata": {},
   "source": [
    "Que6.  How do you tell the difference between the equal to and assignment operators? Describe a condition and when you would          use one.\n",
    "\n",
    "Ans:  The Basic Difference between the Equal to Operator and the Assignment Operator is is that \n",
    "      the Equal to Operator is double equal to symbol (==).\n",
    "      On the other hand, Assignment Operator have a single equal to symbol (=).\n",
    "      Another difference is that\n",
    "      Equal Operator is used for for comparision purpose\n",
    "      Whereas\n",
    "      Assignment Operator is used for assigning values to the Variable\n",
    "\n",
    "\n",
    "      For example:\n",
    "      Assignment Operator Statement\n",
    "      a = 10\n",
    "      This is example of Equal to Operator\n",
    "      if a == 40:\n",
    "         print('Value of a is 40')\n",
    "      else:\n",
    "         print('Value of a is not equal to 40')\n",
    "\n",
    "\n",
    "      O/P: Value of a is 10\n"
   ]
  },
  {
   "cell_type": "code",
   "execution_count": null,
   "id": "3d74a664",
   "metadata": {},
   "outputs": [],
   "source": []
  },
  {
   "cell_type": "markdown",
   "id": "48219a74",
   "metadata": {},
   "source": [
    "Que7.  Identify the three blocks in this code:\n",
    "       spam = 0\n",
    "       if spam == 10:\n",
    "           print(\"eggs\")\n",
    "       if spam > 5:\n",
    "            print(\"bacon\")\n",
    "       else:\n",
    "           print(\"ham\")\n",
    "           print(\"spam\")\n",
    "           print(\"spam')\n",
    "       \n",
    "Ans:       \n",
    "       FIRST BLOCK OF CODE\n",
    "       Assignment Operation\n",
    "       spam = 0\n",
    "       SECOND BLOCK OF CODE\n",
    "       If Condition\n",
    "       if spam == 10:\n",
    "           print(\"eggs\")\n",
    "\n",
    "\n",
    "       THIRD BLOCK OF CODE\n",
    "       Condition Checking with IF-ELSE Block\n",
    "       if spam > 5:\n",
    "           print(\"bacon\")\n",
    "       else:\n",
    "           print(\"ham\")\n",
    "           print(\"spam\")\n",
    "           print(\"spam\")\n"
   ]
  },
  {
   "cell_type": "code",
   "execution_count": 13,
   "id": "c7326b9f",
   "metadata": {},
   "outputs": [
    {
     "name": "stdout",
     "output_type": "stream",
     "text": [
      "ham\n",
      "spam\n",
      "spam\n"
     ]
    }
   ],
   "source": [
    "spam = 0\n",
    "if spam == 10:\n",
    "    print('eggs') # block #1\n",
    "if spam > 5:\n",
    "    print('ham') # block #2\n",
    "else:\n",
    "    print('ham') # block #3\n",
    "    print('spam')\n",
    "    print('spam')"
   ]
  },
  {
   "cell_type": "code",
   "execution_count": null,
   "id": "626b4931",
   "metadata": {},
   "outputs": [],
   "source": []
  },
  {
   "cell_type": "markdown",
   "id": "688eeccc",
   "metadata": {},
   "source": [
    "Que8.  Write code that prints Hello if 1 is stored in spam, prints Howdy if 2 is stored in spam, and prints Greetings! if              anything else is stored in spam.\n",
    "\n",
    "Ans:   "
   ]
  },
  {
   "cell_type": "code",
   "execution_count": 4,
   "id": "fb0721e0",
   "metadata": {},
   "outputs": [
    {
     "name": "stdout",
     "output_type": "stream",
     "text": [
      "Hello\n",
      "Howdy\n",
      "Greetings\n"
     ]
    }
   ],
   "source": [
    "def spamCode(spam):\n",
    "    if spam==1:\n",
    "        print('Hello')\n",
    "    elif spam==2:\n",
    "        print('Howdy')\n",
    "    else:\n",
    "        print('Greetings')\n",
    "spamCode(1)\n",
    "spamCode(2)\n",
    "spamCode(3)\n",
    "        "
   ]
  },
  {
   "cell_type": "code",
   "execution_count": null,
   "id": "c3a61a4e",
   "metadata": {},
   "outputs": [],
   "source": []
  },
  {
   "cell_type": "markdown",
   "id": "1e70d91b",
   "metadata": {},
   "source": [
    "Que9.  If your programme is stuck in an endless loop, what keys you’ll press? \n",
    "\n",
    "Ans: To stop a program stuck in an infinite loop, we press Ctrl-c.\n"
   ]
  },
  {
   "cell_type": "code",
   "execution_count": null,
   "id": "232c5fe3",
   "metadata": {},
   "outputs": [],
   "source": []
  },
  {
   "cell_type": "markdown",
   "id": "6bd4c142",
   "metadata": {},
   "source": [
    "Que10.  How can you tell the difference between break and continue?\n",
    "\n",
    "Ans:  The break statement will move the execution outside the loop if break condtion is satisfied.\n",
    "      When continue comes in the conditional loop, it leaves the current iteration values for execution BUT continues from the       next iterable object.\n"
   ]
  },
  {
   "cell_type": "code",
   "execution_count": 2,
   "id": "17f5fce2",
   "metadata": {},
   "outputs": [
    {
     "name": "stdout",
     "output_type": "stream",
     "text": [
      "Current Value of i is 1\n",
      "Current Value of i is 2\n",
      "Current Value of i is 3\n",
      "Current Value of i is 4\n"
     ]
    }
   ],
   "source": [
    "\n",
    "## Break Condition\n",
    "\n",
    "list = [1,2,3,4,5,6,7,8,9] \n",
    "\n",
    "for i in list:\n",
    "    if i == 5:\n",
    "        break\n",
    "    else:\n",
    "        print(\"Current Value of i is {}\".format(i))"
   ]
  },
  {
   "cell_type": "code",
   "execution_count": 3,
   "id": "14ac1827",
   "metadata": {},
   "outputs": [
    {
     "name": "stdout",
     "output_type": "stream",
     "text": [
      "Current value of i is 1\n",
      "Current value of i is 2\n",
      "Current value of i is 3\n",
      "Current value of i is 4\n",
      "Current value of i is 6\n",
      "Current value of i is 7\n",
      "Current value of i is 8\n",
      "Current value of i is 9\n"
     ]
    }
   ],
   "source": [
    "\n",
    "## Continue Condition\n",
    "\n",
    "list = [1,2,3,4,5,6,7,8,9]\n",
    "\n",
    "for i in list:\n",
    "    if i == 5:\n",
    "        continue\n",
    "    else:\n",
    "        print(\"Current value of i is {}\".format(i))"
   ]
  },
  {
   "cell_type": "code",
   "execution_count": null,
   "id": "274d3ad2",
   "metadata": {},
   "outputs": [],
   "source": []
  },
  {
   "cell_type": "markdown",
   "id": "681c7359",
   "metadata": {},
   "source": [
    "Que11.  In a for loop, what is the difference between range(10), range(0, 10), and range(0, 10, 1)?\n",
    "\n",
    "Ans:  The Differences are as follows:\n",
    "\n",
    "        1. The range(10)  call range from 0 to 9 (but not include 10)  \n",
    "\n",
    "        2. The range (0,10) explicitly tells the loop to start at 0  \n",
    "\n",
    "        3.The range(0,10,1) explicitly tells the loop to increase the variable by 1 on each iteration  \n",
    "\n"
   ]
  },
  {
   "cell_type": "code",
   "execution_count": 27,
   "id": "8d06dedf",
   "metadata": {},
   "outputs": [
    {
     "name": "stdout",
     "output_type": "stream",
     "text": [
      "0 1 2 3 4 5 6 7 8 9 "
     ]
    }
   ],
   "source": [
    "for i in range(10):\n",
    "    print(i , end=\" \")"
   ]
  },
  {
   "cell_type": "code",
   "execution_count": 29,
   "id": "c41b8f15",
   "metadata": {},
   "outputs": [
    {
     "name": "stdout",
     "output_type": "stream",
     "text": [
      "1 2 3 4 5 6 7 8 9 "
     ]
    }
   ],
   "source": [
    "for i in range(1,10):\n",
    "    print (i , end=\" \")"
   ]
  },
  {
   "cell_type": "code",
   "execution_count": 30,
   "id": "552bdc4a",
   "metadata": {},
   "outputs": [
    {
     "name": "stdout",
     "output_type": "stream",
     "text": [
      "0 2 4 6 8 "
     ]
    }
   ],
   "source": [
    "for i in range(0,10,2):\n",
    "    print(i , end=\" \")"
   ]
  },
  {
   "cell_type": "code",
   "execution_count": null,
   "id": "a73cab32",
   "metadata": {},
   "outputs": [],
   "source": []
  },
  {
   "cell_type": "markdown",
   "id": "bfa21df2",
   "metadata": {},
   "source": [
    "Que12.  Write a short program that prints the numbers 1 to 10 using a for loop. Then write an equivalent\n",
    "        program that prints the numbers 1 to 10 using a while loop?\n",
    "        \n",
    "Ans:        "
   ]
  },
  {
   "cell_type": "code",
   "execution_count": 31,
   "id": "a2b1fbc8",
   "metadata": {},
   "outputs": [
    {
     "name": "stdout",
     "output_type": "stream",
     "text": [
      "--- Using For Loop ---\n",
      "0 1 2 3 4 5 6 7 8 9 10 "
     ]
    }
   ],
   "source": [
    "# For Using for Loop\n",
    "print('-'*3,'Using For Loop','-'*3)\n",
    "for i in range (0,11):\n",
    "    print (i , end=\" \")"
   ]
  },
  {
   "cell_type": "code",
   "execution_count": 10,
   "id": "d61379a6",
   "metadata": {},
   "outputs": [
    {
     "name": "stdout",
     "output_type": "stream",
     "text": [
      "-- Using While Loop --\n",
      "1 2 3 4 5 6 7 8 9 10 "
     ]
    }
   ],
   "source": [
    "\n",
    "print('-'*2,'Using While Loop','-'*2)\n",
    "i=1\n",
    "while i<=10:\n",
    "    print(i, end=\" \")\n",
    "    i+=1\n",
    " "
   ]
  },
  {
   "cell_type": "code",
   "execution_count": null,
   "id": "8bd2793e",
   "metadata": {},
   "outputs": [],
   "source": []
  },
  {
   "cell_type": "markdown",
   "id": "80f0032e",
   "metadata": {},
   "source": [
    "Que13.  If you had a function named bacon() inside a module named spam, how would you call it after\n",
    "        importing spam?\n",
    "    \n",
    "Ans:     First Define Module\n",
    "         import spam\n",
    "         Call Function \n",
    "         a = spam.bacon()\n",
    "\n",
    "    "
   ]
  },
  {
   "cell_type": "code",
   "execution_count": null,
   "id": "d3ef13e1",
   "metadata": {},
   "outputs": [],
   "source": []
  }
 ],
 "metadata": {
  "kernelspec": {
   "display_name": "Python 3 (ipykernel)",
   "language": "python",
   "name": "python3"
  },
  "language_info": {
   "codemirror_mode": {
    "name": "ipython",
    "version": 3
   },
   "file_extension": ".py",
   "mimetype": "text/x-python",
   "name": "python",
   "nbconvert_exporter": "python",
   "pygments_lexer": "ipython3",
   "version": "3.9.12"
  }
 },
 "nbformat": 4,
 "nbformat_minor": 5
}
